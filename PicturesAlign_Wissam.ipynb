{
 "cells": [
  {
   "cell_type": "markdown",
   "id": "b8e2deaf",
   "metadata": {},
   "source": [
    "### LOAD PACKAGES"
   ]
  },
  {
   "cell_type": "code",
   "execution_count": 1,
   "id": "385bb94e",
   "metadata": {},
   "outputs": [],
   "source": [
    "import numpy as np\n",
    "import matplotlib.pyplot as plt\n",
    "plt.rcParams.update({'font.family' : 'Georgia' , 'font.size': 14 , 'mathtext.fontset' : 'stix'}),\n",
    "import cv2   # CATCH CIRCLE, READ IMAGE \n",
    "# import pandas as pd\n",
    "# import math\n",
    "# from IPython.display import Markdown, display, Math, Latex"
   ]
  },
  {
   "cell_type": "markdown",
   "id": "9ba27990",
   "metadata": {},
   "source": [
    "### CATCH THE CIRCLE TO ALIGN ALL PICTURES"
   ]
  },
  {
   "cell_type": "code",
   "execution_count": 66,
   "id": "a290cf47",
   "metadata": {},
   "outputs": [
    {
     "name": "stdout",
     "output_type": "stream",
     "text": [
      "In total we found : 7 posibilities.\n"
     ]
    },
    {
     "data": {
      "text/plain": [
       "array([[[4785.5,   79.5,    9.4],\n",
       "        [ 762.5,  904.5,    9.4],\n",
       "        [5213.5,  164.5,    8.2],\n",
       "        [ 114.5,   10.5,    7.1],\n",
       "        [ 793.5,  146.5,    8.2],\n",
       "        [ 251.5, 1054.5,    9.4],\n",
       "        [5042.5,  788.5,    7.1]]], dtype=float32)"
      ]
     },
     "metadata": {},
     "output_type": "display_data"
    },
    {
     "name": "stdout",
     "output_type": "stream",
     "text": [
      "\n",
      "Final option : \n"
     ]
    },
    {
     "data": {
      "text/plain": [
       "array([762.5, 904.5,   9.4], dtype=float32)"
      ]
     },
     "metadata": {},
     "output_type": "display_data"
    },
    {
     "data": {
      "text/plain": [
       "(900, 1300)"
      ]
     },
     "metadata": {},
     "output_type": "display_data"
    },
    {
     "name": "stdout",
     "output_type": "stream",
     "text": [
      "In total we found : 4 posibilities.\n"
     ]
    },
    {
     "data": {
      "text/plain": [
       "array([[[ 695.5,  911.5,    9.4],\n",
       "        [4785.5,   79.5,    9.4],\n",
       "        [1254.5,  182.5,    8.2],\n",
       "        [5213.5,  164.5,    8.2]]], dtype=float32)"
      ]
     },
     "metadata": {},
     "output_type": "display_data"
    },
    {
     "name": "stdout",
     "output_type": "stream",
     "text": [
      "\n",
      "Final option : \n"
     ]
    },
    {
     "data": {
      "text/plain": [
       "array([695.5, 911.5,   9.4], dtype=float32)"
      ]
     },
     "metadata": {},
     "output_type": "display_data"
    },
    {
     "data": {
      "text/plain": [
       "(900, 1300)"
      ]
     },
     "metadata": {},
     "output_type": "display_data"
    },
    {
     "name": "stdout",
     "output_type": "stream",
     "text": [
      "In total we found : 3 posibilities.\n"
     ]
    },
    {
     "data": {
      "text/plain": [
       "array([[[ 657.5,  918.5,    9.4],\n",
       "        [4785.5,   79.5,    9.4],\n",
       "        [5213.5,  164.5,    8.2]]], dtype=float32)"
      ]
     },
     "metadata": {},
     "output_type": "display_data"
    },
    {
     "name": "stdout",
     "output_type": "stream",
     "text": [
      "\n",
      "Final option : \n"
     ]
    },
    {
     "data": {
      "text/plain": [
       "array([657.5, 918.5,   9.4], dtype=float32)"
      ]
     },
     "metadata": {},
     "output_type": "display_data"
    },
    {
     "data": {
      "text/plain": [
       "(900, 1300)"
      ]
     },
     "metadata": {},
     "output_type": "display_data"
    },
    {
     "name": "stdout",
     "output_type": "stream",
     "text": [
      "In total we found : 3 posibilities.\n"
     ]
    },
    {
     "data": {
      "text/plain": [
       "array([[[ 657.5,  916.5,    9.4],\n",
       "        [4785.5,   79.5,    9.4],\n",
       "        [5213.5,  164.5,    8.2]]], dtype=float32)"
      ]
     },
     "metadata": {},
     "output_type": "display_data"
    },
    {
     "name": "stdout",
     "output_type": "stream",
     "text": [
      "\n",
      "Final option : \n"
     ]
    },
    {
     "data": {
      "text/plain": [
       "array([657.5, 916.5,   9.4], dtype=float32)"
      ]
     },
     "metadata": {},
     "output_type": "display_data"
    },
    {
     "data": {
      "text/plain": [
       "(900, 1300)"
      ]
     },
     "metadata": {},
     "output_type": "display_data"
    },
    {
     "name": "stdout",
     "output_type": "stream",
     "text": [
      "In total we found : 5 posibilities.\n"
     ]
    },
    {
     "data": {
      "text/plain": [
       "array([[[ 663.5,  913.5,    9.4],\n",
       "        [4785.5,   79.5,    9.4],\n",
       "        [ 139.5, 1076.5,    8.2],\n",
       "        [5213.5,  164.5,    8.2],\n",
       "        [ 247.5,  131.5,    7.1]]], dtype=float32)"
      ]
     },
     "metadata": {},
     "output_type": "display_data"
    },
    {
     "name": "stdout",
     "output_type": "stream",
     "text": [
      "\n",
      "Final option : \n"
     ]
    },
    {
     "data": {
      "text/plain": [
       "array([663.5, 913.5,   9.4], dtype=float32)"
      ]
     },
     "metadata": {},
     "output_type": "display_data"
    },
    {
     "data": {
      "text/plain": [
       "(900, 1300)"
      ]
     },
     "metadata": {},
     "output_type": "display_data"
    },
    {
     "name": "stdout",
     "output_type": "stream",
     "text": [
      "In total we found : 4 posibilities.\n"
     ]
    },
    {
     "data": {
      "text/plain": [
       "array([[[ 666.5,  932.5,    9.3],\n",
       "        [4785.5,   79.5,    9.4],\n",
       "        [5213.5,  164.5,    8.2],\n",
       "        [ 215.5,   23.5,    7.1]]], dtype=float32)"
      ]
     },
     "metadata": {},
     "output_type": "display_data"
    },
    {
     "name": "stdout",
     "output_type": "stream",
     "text": [
      "\n",
      "Final option : \n"
     ]
    },
    {
     "data": {
      "text/plain": [
       "array([666.5, 932.5,   9.3], dtype=float32)"
      ]
     },
     "metadata": {},
     "output_type": "display_data"
    },
    {
     "data": {
      "text/plain": [
       "(900, 1300)"
      ]
     },
     "metadata": {},
     "output_type": "display_data"
    },
    {
     "name": "stdout",
     "output_type": "stream",
     "text": [
      "In total we found : 4 posibilities.\n"
     ]
    },
    {
     "data": {
      "text/plain": [
       "array([[[4785.5,   79.5,    9.4],\n",
       "        [5213.5,  164.5,    8.2],\n",
       "        [ 664.5,  909.5,    7.1],\n",
       "        [1931.5,  869.5,    6.9]]], dtype=float32)"
      ]
     },
     "metadata": {},
     "output_type": "display_data"
    },
    {
     "name": "stdout",
     "output_type": "stream",
     "text": [
      "\n",
      "Final option : \n"
     ]
    },
    {
     "data": {
      "text/plain": [
       "array([664.5, 909.5,   7.1], dtype=float32)"
      ]
     },
     "metadata": {},
     "output_type": "display_data"
    },
    {
     "data": {
      "text/plain": [
       "(900, 1300)"
      ]
     },
     "metadata": {},
     "output_type": "display_data"
    },
    {
     "name": "stdout",
     "output_type": "stream",
     "text": [
      "In total we found : 4 posibilities.\n"
     ]
    },
    {
     "data": {
      "text/plain": [
       "array([[[ 670.5,  933.5,    8.2],\n",
       "        [4785.5,   79.5,    9.4],\n",
       "        [  84.5,   17.5,    9.4],\n",
       "        [5213.5,  164.5,    8.2]]], dtype=float32)"
      ]
     },
     "metadata": {},
     "output_type": "display_data"
    },
    {
     "name": "stdout",
     "output_type": "stream",
     "text": [
      "\n",
      "Final option : \n"
     ]
    },
    {
     "data": {
      "text/plain": [
       "array([670.5, 933.5,   8.2], dtype=float32)"
      ]
     },
     "metadata": {},
     "output_type": "display_data"
    },
    {
     "data": {
      "text/plain": [
       "(900, 1300)"
      ]
     },
     "metadata": {},
     "output_type": "display_data"
    },
    {
     "name": "stdout",
     "output_type": "stream",
     "text": [
      "In total we found : 4 posibilities.\n"
     ]
    },
    {
     "data": {
      "text/plain": [
       "array([[[4785.5,   79.5,    9.4],\n",
       "        [5213.5,  164.5,    8.2],\n",
       "        [ 662.5,  927.5,    7.1],\n",
       "        [ 163.5, 1070.5,    9.4]]], dtype=float32)"
      ]
     },
     "metadata": {},
     "output_type": "display_data"
    },
    {
     "name": "stdout",
     "output_type": "stream",
     "text": [
      "\n",
      "Final option : \n"
     ]
    },
    {
     "data": {
      "text/plain": [
       "array([662.5, 927.5,   7.1], dtype=float32)"
      ]
     },
     "metadata": {},
     "output_type": "display_data"
    },
    {
     "data": {
      "text/plain": [
       "(900, 1300)"
      ]
     },
     "metadata": {},
     "output_type": "display_data"
    },
    {
     "name": "stdout",
     "output_type": "stream",
     "text": [
      "In total we found : 4 posibilities.\n"
     ]
    },
    {
     "data": {
      "text/plain": [
       "array([[[ 673.5,  923.5,    9.4],\n",
       "        [4785.5,   79.5,    9.4],\n",
       "        [5213.5,  164.5,    8.2],\n",
       "        [ 187.5, 1038.5,    9.4]]], dtype=float32)"
      ]
     },
     "metadata": {},
     "output_type": "display_data"
    },
    {
     "name": "stdout",
     "output_type": "stream",
     "text": [
      "\n",
      "Final option : \n"
     ]
    },
    {
     "data": {
      "text/plain": [
       "array([673.5, 923.5,   9.4], dtype=float32)"
      ]
     },
     "metadata": {},
     "output_type": "display_data"
    },
    {
     "data": {
      "text/plain": [
       "(900, 1300)"
      ]
     },
     "metadata": {},
     "output_type": "display_data"
    }
   ],
   "source": [
    "# A. READ IMAGE\n",
    "numPic = 1\n",
    "lst = np.arange(1,11)\n",
    "\n",
    "for numPic in lst :\n",
    "    \n",
    "    FileName = 'Edges%d'%numPic;\n",
    "   \n",
    "    img = cv2.imread(('/Users/wissam/Wissam/DATA/SUIVIS TEMPORELS/6:12_CRAIE_1H20/Traitement Images/Profil/Z.Edges/'+ FileName + '.jpg') , 0);   # IMAGE READ\n",
    "    img[img > 5] = 255;   # image where greater than 5 become white\n",
    "\n",
    "# B. DETECT CIRCLES\n",
    "    dp = 1;   minDist = 100;   param1 = 55;   param2 = 10;   minRadius = 6;   maxRadius = 10;\n",
    "    detected_circles = cv2.HoughCircles(img , cv2.HOUGH_GRADIENT , dp = dp , \n",
    "                                    minDist = minDist , param1 = param1 , param2 = param2 , \n",
    "                                    minRadius = minRadius , maxRadius = maxRadius);\n",
    "    print('In total we found : ' + str(len(detected_circles[0])) + ' posibilities.')\n",
    "    display(detected_circles)\n",
    "\n",
    "# C. PICK THE ONE IN GOOD RANGE ([250,400,600,750] -> (new coordinates) [600,850,800,980]) ---> SHOULD BE ONLY ONE IN THE END\n",
    "    pos = np.where( (850 >= detected_circles[0][:,0]) & (detected_circles[0][:,0] >= 600) & (detected_circles[0][:,1] >= 800) & (980 >= detected_circles[0][:,1]));\n",
    "    detected_circles_final = detected_circles[0][pos[0][0]];\n",
    "    print('\\nFinal option : ') \n",
    "    display(detected_circles_final)\n",
    "\n",
    "# D. EXPORT AS NEW IMAGE\n",
    "    Img_New = img[round(detected_circles_final[1]) - 400:round(detected_circles_final[1]) + 500 , round(detected_circles_final[0]) - 200 : round(detected_circles_final[0]) + 1100]\n",
    "    display(Img_New.shape)\n",
    "    cv2.imwrite(('/Users/wissam/Wissam/DATA/SUIVIS TEMPORELS/6:12_CRAIE_1H20/Traitement Images/Profil/New/'+ FileName + '_out.jpg'), Img_New)\n",
    "    \n",
    "    \n",
    "    \n",
    "    \n",
    "    \n",
    "    \n",
    "    \n"
   ]
  },
  {
   "cell_type": "code",
   "execution_count": 68,
   "id": "a0189c2c",
   "metadata": {},
   "outputs": [
    {
     "data": {
      "text/plain": [
       "(900, 1300)"
      ]
     },
     "metadata": {},
     "output_type": "display_data"
    }
   ],
   "source": [
    "display(Img_New.shape)"
   ]
  },
  {
   "cell_type": "markdown",
   "id": "e7020e74",
   "metadata": {},
   "source": [
    "### FIGURE : CHECK IF IT IS WELL CAPTURED"
   ]
  },
  {
   "cell_type": "code",
   "execution_count": 69,
   "id": "89167708",
   "metadata": {},
   "outputs": [
    {
     "data": {
      "image/png": "[encoded data removed]",
      "text/plain": [
       "<Figure size 720x360 with 2 Axes>"
      ]
     },
     "metadata": {
      "needs_background": "light"
     },
     "output_type": "display_data"
    }
   ],
   "source": [
    "fig, ax = plt.subplots(1,2,figsize = (10,5))\n",
    "# FIGURE(1) : FULL SCALE\n",
    "ax[0].imshow(img , cmap = 'gray')\n",
    "ax[0].plot(detected_circles[0][:,0] , detected_circles[0][:,1] , 'o' , markersize = 3 , color = '#C77676')\n",
    "ax[0].plot(detected_circles_final[0] , detected_circles_final[1] , 'o' , markersize = 5 , color = '#EC3636')\n",
    "\n",
    "# FIGURE(2) : ZOOM IN SCALE \n",
    "ax[1].imshow(img , cmap = 'gray')\n",
    "ax[1].plot(detected_circles_final[0] , detected_circles_final[1] , 'o' , markersize = 5 , color = '#EC3636')\n",
    "ax[1].axis([600,850,800,980])\n",
    "circle = plt.Circle((detected_circles_final[0] , detected_circles_final[1]) , detected_circles_final[2] , color = '#EC3636' , fill = False , lw = 2.0)\n",
    "ax[1].add_patch(circle)\n",
    "\n",
    "fig.tight_layout()"
   ]
  },
  {
   "cell_type": "markdown",
   "id": "4277d185",
   "metadata": {},
   "source": [
    "### RELOAD AND SHOW"
   ]
  },
  {
   "cell_type": "code",
   "execution_count": 70,
   "id": "5fac1cc9",
   "metadata": {},
   "outputs": [
    {
     "data": {
      "image/png": "[encoded data removed]",
      "text/plain": [
       "<Figure size 720x360 with 2 Axes>"
      ]
     },
     "metadata": {
      "needs_background": "light"
     },
     "output_type": "display_data"
    }
   ],
   "source": [
    "# READ IMAGE\n",
    "FileName = 'Edges1';\n",
    "frame0 = cv2.imread('/Users/wissam/Wissam/DATA/SUIVIS TEMPORELS/6:12_CRAIE_1H20/Traitement Images/Profil/New/' + FileName + '_out.jpg' , 0)\n",
    "\n",
    "# LONG EXPOSURE\n",
    "numPics = 2;\n",
    "for numPics in [2,3]:\n",
    "    frame1 = cv2.imread('/Users/wissam/Wissam/DATA/SUIVIS TEMPORELS/6:12_CRAIE_1H20/Traitement Images/Profil/New/Edges%d_out.jpg' % numPics  , 0)\n",
    "    frame0 = np.maximum(frame0 , frame1);\n",
    "\n",
    "# IMAGE SHOW\n",
    "fig, ax = plt.subplots(1,2,figsize = (10,5))\n",
    "ax[0].imshow(frame0 , cmap = 'gray')\n",
    "ax[1].imshow(frame0 , cmap = 'gray')\n",
    "ax[1].axis([4000,5500,1000,1900])\n",
    "fig.tight_layout()"
   ]
  },
  {
   "cell_type": "code",
   "execution_count": null,
   "id": "3f411d0e",
   "metadata": {},
   "outputs": [],
   "source": []
  }
 ],
 "metadata": {
  "kernelspec": {
   "display_name": "Python 3 (ipykernel)",
   "language": "python",
   "name": "python3"
  },
  "language_info": {
   "codemirror_mode": {
    "name": "ipython",
    "version": 3
   },
   "file_extension": ".py",
   "mimetype": "text/x-python",
   "name": "python",
   "nbconvert_exporter": "python",
   "pygments_lexer": "ipython3",
   "version": "3.9.7"
  }
 },
 "nbformat": 4,
 "nbformat_minor": 5
}
