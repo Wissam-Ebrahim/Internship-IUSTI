{
 "cells": [
  {
   "cell_type": "markdown",
   "id": "3eb65612",
   "metadata": {},
   "source": [
    "# Algorithmes de traitement d'images"
   ]
  },
  {
   "cell_type": "markdown",
   "id": "83eb15f3",
   "metadata": {},
   "source": [
    "## Algorithmes de traitement des données ImageJ et traçage des graphes du Profil"
   ]
  },
  {
   "cell_type": "code",
   "execution_count": 151,
   "id": "ce660010",
   "metadata": {},
   "outputs": [],
   "source": [
    "import matplotlib.pyplot as plt\n",
    "import csv\n",
    "import numpy as np\n",
    "from array import *\n",
    "import os\n",
    "\n",
    "def maybeMakeNumber(s):\n",
    "    \"\"\"Returns a string 's' into a integer if possible, a float if needed or\n",
    "    returns it as is.\"\"\"\n",
    "\n",
    "    # handle None, \"\", 0\n",
    "    if not s:\n",
    "        return s\n",
    "    try:\n",
    "        f = float(s)\n",
    "        i = int(f)\n",
    "        return i if f == i else f\n",
    "    except ValueError:\n",
    "        return s"
   ]
  },
  {
   "cell_type": "code",
   "execution_count": 152,
   "id": "bfa81033",
   "metadata": {},
   "outputs": [
    {
     "data": {
      "text/plain": [
       "Text(0.5, 1.0, 'Face of the chalk (V=5)')"
      ]
     },
     "execution_count": 152,
     "metadata": {},
     "output_type": "execute_result"
    },
    {
     "data": {
      "image/png": "[encoded data removed]",
      "text/plain": [
       "<Figure size 432x288 with 1 Axes>"
      ]
     },
     "metadata": {
      "needs_background": "light"
     },
     "output_type": "display_data"
    }
   ],
   "source": [
    "#Profile_Length_(V=5).py\n",
    "\n",
    "with open('/Users/wissam/Wissam/DATA/SUIVIS TEMPORELS/13:12_CRAIE_(5)/Traitement Images/Profil/Résultats/Results_Profil_(5).csv') as csv_file:\n",
    "    csv_reader = csv.DictReader(csv_file, delimiter=',')\n",
    "    L = []\n",
    "    Slice1 =[]\n",
    "    for row in csv_reader:\n",
    "        row = dict(row)\n",
    "        L.append(row.get(\"Length\"))\n",
    "        Slice1.append(row.get(\"\"))\n",
    "        \n",
    "L = list(map(maybeMakeNumber, L))\n",
    "L2=[]\n",
    "for i in range (len(L)):\n",
    "    L2.append(L[i]-2.89)\n",
    "\n",
    "T=[]\n",
    "for i in range (len(L)):\n",
    "    T.append(2*i)  \n",
    "\n",
    "\n",
    "\"\"\"Il ne reste plus qu'à tracer les coordonnées en fonction des slices ou du \n",
    "    temps comme on sait qu'1 slice correspond à 2 minutes \"\"\"\n",
    "\n",
    "    \n",
    "plt.plot(T, L2, 'b^')   \n",
    "plt.xlabel('Time (minutes)')\n",
    "plt.ylabel('Length (mm)')\n",
    "plt.title('Face of the chalk (V=5)')\n"
   ]
  },
  {
   "cell_type": "code",
   "execution_count": 153,
   "id": "1d5ea5d8",
   "metadata": {},
   "outputs": [
    {
     "data": {
      "text/plain": [
       "Text(0.5, 1.0, 'Face of the chalk (V=10)')"
      ]
     },
     "execution_count": 153,
     "metadata": {},
     "output_type": "execute_result"
    },
    {
     "data": {
      "image/png": "[encoded data removed]",
      "text/plain": [
       "<Figure size 432x288 with 1 Axes>"
      ]
     },
     "metadata": {
      "needs_background": "light"
     },
     "output_type": "display_data"
    }
   ],
   "source": [
    "#Profile_Length(V=10).py\n",
    "\n",
    "with open('/Users/wissam/Wissam/DATA/SUIVIS TEMPORELS/8:12_CRAIE_1H_(10)/Traitement Images/Profil/Results/Profil2.csv') as csv_file:\n",
    "    csv_reader = csv.DictReader(csv_file, delimiter=',')\n",
    "    Lx = []\n",
    "    Slice1 =[]\n",
    "    for row in csv_reader:\n",
    "        row = dict(row)\n",
    "        Lx.append(row.get(\"Length\"))\n",
    "        Slice1.append(row.get(\"\"))\n",
    "\n",
    "Lx = list(map(maybeMakeNumber, Lx))\n",
    "\n",
    "  \n",
    "L2=[]\n",
    "for i in range((len(Lx))-2):\n",
    "    L2.append(Lx[0]+Lx[i+2])\n",
    "    \n",
    "\"\"\"on remet à la même longueur nos données\"\"\"\n",
    "L3=[]\n",
    "for i in range(len(L2)):\n",
    "    L3.append(L2[i] + 0.912000000000006)\n",
    "\n",
    "Tx=[]\n",
    "for i in range (len(L3)):\n",
    "    Tx.append(2*i)\n",
    "\"\"\"Il ne reste plus qu'à tracer les coordonnées en fonction des slices ou du \n",
    "    temps comme on sait qu'1 slice correspond à 2 minutes \"\"\"\n",
    "\n",
    "    \n",
    "plt.plot(Tx, L3, 'ko')   \n",
    "plt.xlabel('Time (minutes)')\n",
    "plt.ylabel('Length (mm)')\n",
    "plt.title('Face of the chalk (V=10)')"
   ]
  },
  {
   "cell_type": "code",
   "execution_count": 154,
   "id": "008e45dd",
   "metadata": {},
   "outputs": [
    {
     "data": {
      "text/plain": [
       "Text(0.5, 1.0, 'Profile of the chalk (V=20)')"
      ]
     },
     "execution_count": 154,
     "metadata": {},
     "output_type": "execute_result"
    },
    {
     "data": {
      "image/png": "[encoded data removed]",
      "text/plain": [
       "<Figure size 432x288 with 1 Axes>"
      ]
     },
     "metadata": {
      "needs_background": "light"
     },
     "output_type": "display_data"
    }
   ],
   "source": [
    "#Profile_Length(V=20).py\n",
    "\n",
    "with open('/Users/wissam/Wissam/DATA/SUIVIS TEMPORELS/6:12_CRAIE_1_(20)/Traitement Images/Profil/Results/Coordonnées(Plot).csv') as csv_file:\n",
    "    csv_reader = csv.DictReader(csv_file, delimiter=',')\n",
    "    Coord1 = []\n",
    "    Slice1 =[]\n",
    "    for row in csv_reader:\n",
    "        row = dict(row)\n",
    "        Coord1.append(row.get(\"X\"))\n",
    "        Slice1.append(row.get(\"Slice\"))\n",
    "\n",
    "with open('/Users/wissam/Wissam/DATA/SUIVIS TEMPORELS/6:12_CRAIE_1_(20)/Traitement Images/Profil/Results/Point de Repère.csv') as csv_file:\n",
    "    csv_reader = csv.DictReader(csv_file, delimiter=',')\n",
    "    Coord2 = []\n",
    "    Slice2 =[]\n",
    "    for row in csv_reader:\n",
    "        row = dict(row)\n",
    "        Coord2.append(row.get(\"X\"))\n",
    "        Slice2.append(row.get(\"Slice\"))\n",
    "    \n",
    "\"\"\"Here, Coord1 and Coord2 contain strings so we convert them into float\"\"\"\n",
    "\n",
    "Coord1 = list(map(maybeMakeNumber, Coord1))\n",
    "Coord2 = list(map(maybeMakeNumber, Coord2))\n",
    "\n",
    "Slice2 = list(map(maybeMakeNumber, Slice2))\n",
    "\n",
    "\"\"\" Now that we have the coordinates of the edge of the chalk and of the point O,\n",
    "let's calculate the length  \"\"\"\n",
    "\n",
    "L = []\n",
    "for i in range (9) : \n",
    "     L.append(Coord1[i] - Coord2[i])\n",
    "L.append(48.8)\n",
    "for i in range (10,len(Slice1),1) :\n",
    "    L.append(Coord1[i] - Coord2[i])\n",
    "\n",
    "\n",
    "\n",
    "T=[]\n",
    "for i in range (len(Slice1)):\n",
    "    T.append(2*i)     \n",
    "\n",
    "\"\"\" Now we put at the same stating length the data \"\"\"\n",
    "    \n",
    "Li = []\n",
    "for i in range (len(L)) :\n",
    "    Li.append(L[i]-0.031)\n",
    "\n",
    "\"\"\" Plot of the length in function of time \"\"\" \n",
    "\n",
    "    \n",
    "plt.plot(T, Li, 'ro')\n",
    "plt.xlabel('Time (minutes)')\n",
    "plt.ylabel('Length (mm)')\n",
    "plt.title('Profile of the chalk (V=20)')"
   ]
  },
  {
   "cell_type": "markdown",
   "id": "cd391d53",
   "metadata": {},
   "source": [
    "## Algorithme de comparaison des longueurs"
   ]
  },
  {
   "cell_type": "code",
   "execution_count": 155,
   "id": "51179ef9",
   "metadata": {},
   "outputs": [
    {
     "data": {
      "text/plain": [
       "Text(0.5, 1.0, 'Profile of the chalk at differents speeds')"
      ]
     },
     "execution_count": 155,
     "metadata": {},
     "output_type": "execute_result"
    },
    {
     "data": {
      "image/png": "[encoded data removed]",
      "text/plain": [
       "<Figure size 432x288 with 1 Axes>"
      ]
     },
     "metadata": {
      "needs_background": "light"
     },
     "output_type": "display_data"
    }
   ],
   "source": [
    "#LengthComparison\n",
    "\n",
    "with open('/Users/wissam/Wissam/DATA/SUIVIS TEMPORELS/6:12_CRAIE_1_(20)/Traitement Images/Profil/Results/Coordonnées(Plot).csv') as csv_file:\n",
    "    csv_reader = csv.DictReader(csv_file, delimiter=',')\n",
    "    Coord1 = []\n",
    "    Slice1 =[]\n",
    "    for row in csv_reader:\n",
    "        row = dict(row)\n",
    "        Coord1.append(row.get(\"X\"))\n",
    "        Slice1.append(row.get(\"Slice\"))\n",
    "\n",
    "with open('/Users/wissam/Wissam/DATA/SUIVIS TEMPORELS/6:12_CRAIE_1_(20)/Traitement Images/Profil/Results/Point de Repère.csv') as csv_file:\n",
    "    csv_reader = csv.DictReader(csv_file, delimiter=',')\n",
    "    Coord2 = []\n",
    "    Slice2 =[]\n",
    "    for row in csv_reader:\n",
    "        row = dict(row)\n",
    "        Coord2.append(row.get(\"X\"))\n",
    "        Slice2.append(row.get(\"Slice\"))\n",
    "    \n",
    "\"\"\"Here, Coord1 and Coord2 contain strings so we convert them into float\"\"\"\n",
    "\n",
    "\n",
    "\n",
    "Coord1 = list(map(maybeMakeNumber, Coord1))\n",
    "Coord2 = list(map(maybeMakeNumber, Coord2))\n",
    "\n",
    "Slice2 = list(map(maybeMakeNumber, Slice2))\n",
    "\n",
    "\"\"\" Now that we have the coordinates of the edge of the chalk and of the point\n",
    "    O, let's calculate the length  \"\"\"\n",
    "\n",
    "L = []\n",
    "for i in range (9) : \n",
    "     L.append(Coord1[i] - Coord2[i])\n",
    "L.append(48.8)\n",
    "for i in range (10,len(Slice1),1) :\n",
    "    L.append(Coord1[i] - Coord2[i])\n",
    "    \n",
    "Li = []\n",
    "for i in range (len(L)) :\n",
    "    Li.append(L[i]-0.031)\n",
    "\n",
    "Ti = []\n",
    "for p in range (44):\n",
    "    Ti.append(2*p)     \n",
    "\n",
    "\n",
    "with open('/Users/wissam/Wissam/DATA/SUIVIS TEMPORELS/8:12_CRAIE_1H_(10)/Traitement Images/Profil/Results/Profil2.csv') as csv_file:\n",
    "    csv_reader = csv.DictReader(csv_file, delimiter=',')\n",
    "    L2 = []\n",
    "    Slice1 =[]\n",
    "    for row in csv_reader:\n",
    "        row = dict(row)\n",
    "        L2.append(row.get(\"Length\"))\n",
    "        \n",
    "L2 = list(map(maybeMakeNumber, L2))\n",
    "\n",
    "L3 = []\n",
    "for i in range((len(L2))-1):\n",
    "    L3.append(L2[0]+L2[i+1])\n",
    "L3 = list(map(maybeMakeNumber, L3))\n",
    "L3 = L3\n",
    "\n",
    "Lj = []\n",
    "for i in range (len(L3)):\n",
    "    Lj.append(L3[i]-0.912000000000006)\n",
    "\n",
    "Tj = []\n",
    "for i in range (len(Lj)):\n",
    "    Tj.append(4*i)\n",
    "    \n",
    "\n",
    "with open('/Users/wissam/Wissam/DATA/SUIVIS TEMPORELS/13:12_CRAIE_(5)/Traitement Images/Profil/Résultats/Results_Profil_(5).csv') as csv_file:\n",
    "    csv_reader = csv.DictReader(csv_file, delimiter=',')\n",
    "    L4 = []\n",
    "    Slice1 =[]\n",
    "    for row in csv_reader:\n",
    "        row = dict(row)\n",
    "        L4.append(row.get(\"Length\"))\n",
    "        \n",
    "    \n",
    "L4 = list(map(maybeMakeNumber, L4))\n",
    "Lk = []\n",
    "Tk = []\n",
    "for i in range (len(L4)):\n",
    "    Tk.append(8*i)\n",
    "for i in range(len(L4)):\n",
    "    Lk.append(L4[i]-2.89)\n",
    "for i in range(len(Lk)-7):\n",
    "    Lk[i+7] = Lk[i+7] + 0.5*(1/(i+7))\n",
    "\n",
    "plt.plot(Ti,Li,'r-d', label = 'V=20')\n",
    "plt.plot(Tj,Lj,'k-o',label = 'V=10')\n",
    "plt.plot(Tk,Lk,'b^',label = 'V=5')\n",
    "\n",
    "plt.legend(loc=\"upper right\")\n",
    "\n",
    "plt.xlabel('Time(minutes)')\n",
    "plt.ylabel('Length (mm)')\n",
    "\n",
    "plt.title('Profile of the chalk at differents speeds')\n"
   ]
  },
  {
   "cell_type": "markdown",
   "id": "2263ed32",
   "metadata": {},
   "source": [
    "### Comparaison des longueurs en adimensionnant l'axe des abcisses"
   ]
  },
  {
   "cell_type": "code",
   "execution_count": 156,
   "id": "8ce2d938",
   "metadata": {},
   "outputs": [
    {
     "data": {
      "text/plain": [
       "Text(0.5, 1.0, 'Profile of the chalk at differents speeds')"
      ]
     },
     "execution_count": 156,
     "metadata": {},
     "output_type": "execute_result"
    },
    {
     "data": {
      "image/png": "[encoded data removed]",
      "text/plain": [
       "<Figure size 432x288 with 1 Axes>"
      ]
     },
     "metadata": {
      "needs_background": "light"
     },
     "output_type": "display_data"
    }
   ],
   "source": [
    "#Length_Comparison_(No Dimension).py\n",
    "\n",
    "with open('/Users/wissam/Wissam/DATA/SUIVIS TEMPORELS/6:12_CRAIE_1_(20)/Traitement Images/Profil/Results/Coordonnées(Plot).csv') as csv_file:\n",
    "    csv_reader = csv.DictReader(csv_file, delimiter=',')\n",
    "    Coord1 = []\n",
    "    Slice1 =[]\n",
    "    for row in csv_reader:\n",
    "        row = dict(row)\n",
    "        Coord1.append(row.get(\"X\"))\n",
    "        Slice1.append(row.get(\"Slice\"))\n",
    "\n",
    "with open('/Users/wissam/Wissam/DATA/SUIVIS TEMPORELS/6:12_CRAIE_1_(20)/Traitement Images/Profil/Results/Point de Repère.csv') as csv_file:\n",
    "    csv_reader = csv.DictReader(csv_file, delimiter=',')\n",
    "    Coord2 = []\n",
    "    Slice2 =[]\n",
    "    for row in csv_reader:\n",
    "        row = dict(row)\n",
    "        Coord2.append(row.get(\"X\"))\n",
    "        Slice2.append(row.get(\"Slice\"))\n",
    "    \n",
    "\"\"\"Here, Coord1 and Coord2 contain strings so we convert them into float\"\"\"\n",
    "\n",
    "\n",
    "\n",
    "Coord1 = list(map(maybeMakeNumber, Coord1))\n",
    "Coord2 = list(map(maybeMakeNumber, Coord2))\n",
    "\n",
    "Slice2 = list(map(maybeMakeNumber, Slice2))\n",
    "\n",
    "\"\"\" Now that we have the coordinates of the edge of the chalk and of the point\n",
    "    O, let's calculate the length  \"\"\"\n",
    "\n",
    "L = []\n",
    "for i in range (9) : \n",
    "     L.append(Coord1[i] - Coord2[i])\n",
    "L.append(48.8)\n",
    "for i in range (10,len(Slice1),1) :\n",
    "    L.append(Coord1[i] - Coord2[i])\n",
    "    \n",
    "Li = []\n",
    "for i in range (len(L)) :\n",
    "    Li.append(L[i]-0.031)\n",
    "\n",
    "Ti = []\n",
    "for p in range (44):\n",
    "    Ti.append(2*p*272/10)     \n",
    "\n",
    "\n",
    "with open('/Users/wissam/Wissam/DATA/SUIVIS TEMPORELS/8:12_CRAIE_1H_(10)/Traitement Images/Profil/Results/Profil2.csv') as csv_file:\n",
    "    csv_reader = csv.DictReader(csv_file, delimiter=',')\n",
    "    L2 = []\n",
    "    Slice1 =[]\n",
    "    for row in csv_reader:\n",
    "        row = dict(row)\n",
    "        L2.append(row.get(\"Length\"))\n",
    "        \n",
    "L2 = list(map(maybeMakeNumber, L2))\n",
    "\n",
    "L3 = []\n",
    "for i in range((len(L2))-1):\n",
    "    L3.append(L2[0]+L2[i+1])\n",
    "L3 = list(map(maybeMakeNumber, L3))\n",
    "L3 = L3\n",
    "\n",
    "Lj = []\n",
    "for i in range (len(L3)):\n",
    "    Lj.append(L3[i]-0.912000000000006)\n",
    "\n",
    "Tj = []\n",
    "for i in range (len(Lj)):\n",
    "    Tj.append(4*i*120/10)\n",
    "    \n",
    "\n",
    "with open('/Users/wissam/Wissam/DATA/SUIVIS TEMPORELS/13:12_CRAIE_(5)/Traitement Images/Profil/Résultats/Results_Profil_(5).csv') as csv_file:\n",
    "    csv_reader = csv.DictReader(csv_file, delimiter=',')\n",
    "    L4 = []\n",
    "    Slice1 =[]\n",
    "    for row in csv_reader:\n",
    "        row = dict(row)\n",
    "        L4.append(row.get(\"Length\"))\n",
    "        \n",
    "    \n",
    "L4 = list(map(maybeMakeNumber, L4))\n",
    "Lk = []\n",
    "Tk = []\n",
    "for i in range (len(L4)):\n",
    "    Tk.append(8*i*85/10)\n",
    "    \n",
    "for i in range(len(L4)):\n",
    "    Lk.append(L4[i]-2.89)  \n",
    "    \n",
    "for i in range(len(Lk)-7):\n",
    "    Lk[i+7] = Lk[i+7] + 0.7\n",
    "\n",
    "Lk[5] = Lk[5]+0.2    #erreurs de mesure rattrappées\n",
    "Lk[6] = Lk[6]+0.5\n",
    "\n",
    "\n",
    "plt.plot(Ti,Li,'r-d',label = 'V=20')\n",
    "plt.plot(Tj,Lj,'k-o',label = 'V=10')\n",
    "plt.plot(Tk,Lk,'b^', label = 'V=5' )\n",
    "\n",
    "plt.legend(loc=\"upper right\")\n",
    "\n",
    "plt.xlabel('Time(No dimension)')\n",
    "plt.ylabel('Length (mm)')\n",
    "\n",
    "plt.title('Profile of the chalk at differents speeds')"
   ]
  },
  {
   "cell_type": "markdown",
   "id": "13557c6c",
   "metadata": {},
   "source": [
    "## Algorithmes de traçage de la vitesse d'érosion"
   ]
  },
  {
   "cell_type": "code",
   "execution_count": 157,
   "id": "8465c5fe",
   "metadata": {},
   "outputs": [
    {
     "data": {
      "text/plain": [
       "Text(0.5, 1.0, 'Erosion speed of the face (V=5)')"
      ]
     },
     "execution_count": 157,
     "metadata": {},
     "output_type": "execute_result"
    },
    {
     "data": {
      "image/png": "[encoded data removed]",
      "text/plain": [
       "<Figure size 432x288 with 1 Axes>"
      ]
     },
     "metadata": {
      "needs_background": "light"
     },
     "output_type": "display_data"
    }
   ],
   "source": [
    "#VitesseErosion(5).py\n",
    "\n",
    "with open('/Users/wissam/Wissam/DATA/SUIVIS TEMPORELS/13:12_CRAIE_(5)/Traitement Images/Profil/Résultats/Results_Profil_(5).csv') as csv_file:\n",
    "    csv_reader = csv.DictReader(csv_file, delimiter=',')\n",
    "    L = []\n",
    "    Slice1 =[]\n",
    "    for row in csv_reader:\n",
    "        row = dict(row)\n",
    "        L.append(row.get(\"Length\"))\n",
    "        Slice1.append(row.get(\"\"))\n",
    "        \n",
    "\n",
    "L = list(map(maybeMakeNumber, L))\n",
    "L2=[]\n",
    "for i in range (len(L)):\n",
    "    L2.append(L[i]-2.89)\n",
    "\n",
    "V = []\n",
    "\n",
    "for i in range (len(L2)-1):\n",
    "    V.append((L2[i+1]-L2[i])/2)\n",
    "    \n",
    "T=[]\n",
    "for i in range (len(V)):\n",
    "    T.append(2*i)  \n",
    "\"\"\"Il ne reste plus qu'à tracer les coordonnées en fonction des slices ou du \n",
    "    temps comme on sait qu'1 slice correspond à 2 minutes \"\"\"\n",
    "\n",
    "    \n",
    "plt.plot(T, V, 'b^')   \n",
    "plt.xlabel('Time (minutes)')\n",
    "plt.ylabel('Speed (cm/min)')\n",
    "plt.title('Erosion speed of the face (V=5)')\n"
   ]
  },
  {
   "cell_type": "code",
   "execution_count": 158,
   "id": "14284bdc",
   "metadata": {},
   "outputs": [
    {
     "data": {
      "text/plain": [
       "Text(0.5, 1.0, 'Erosion speed of the profile (V=10)')"
      ]
     },
     "execution_count": 158,
     "metadata": {},
     "output_type": "execute_result"
    },
    {
     "data": {
      "image/png": "[encoded data removed]",
      "text/plain": [
       "<Figure size 432x288 with 1 Axes>"
      ]
     },
     "metadata": {
      "needs_background": "light"
     },
     "output_type": "display_data"
    }
   ],
   "source": [
    "#VitesseErosion(10).py\n",
    "\n",
    "with open('/Users/wissam/Wissam/DATA/SUIVIS TEMPORELS/8:12_CRAIE_1H_(10)/Traitement Images/Profil/Results/Profil2.csv') as csv_file:\n",
    "    csv_reader = csv.DictReader(csv_file, delimiter=',')\n",
    "    L = []\n",
    "    Slice1 =[]\n",
    "    for row in csv_reader:\n",
    "        row = dict(row)\n",
    "        L.append(row.get(\"Length\"))\n",
    "        \n",
    "\n",
    "L = list(map(maybeMakeNumber, L))\n",
    "L2 =[]\n",
    "\n",
    "for i in range((len(L))-2):\n",
    "    L2.append(L[0]+L[i+2])\n",
    "\n",
    "L3 =[]\n",
    "for i in range(len(L2)):\n",
    "    L3.append(L2[i] + 0.912000000000006)\n",
    "\n",
    "V = []\n",
    "\n",
    "for i in range (len(L3)-1):\n",
    "    V.append((L3[i+1]-L3[i])/2)\n",
    "    \n",
    "T=[]\n",
    "for i in range (len(V)):\n",
    "    T.append(2*i)\n",
    "\n",
    "\"\"\"Il ne reste plus qu'à tracer les coordonnées en fonction des slices ou du \n",
    "    temps comme on sait qu'1 slice correspond à 2 minutes \"\"\"\n",
    "\n",
    "    \n",
    "plt.plot(T, V, 'ks')   \n",
    "plt.xlabel('Time (minutes)')\n",
    "plt.ylabel('Speed (cm/min)')\n",
    "plt.title('Erosion speed of the profile (V=10)')\n"
   ]
  },
  {
   "cell_type": "code",
   "execution_count": 159,
   "id": "8068977a",
   "metadata": {},
   "outputs": [
    {
     "data": {
      "text/plain": [
       "Text(0.5, 1.0, 'Erosion Speed (V=20)')"
      ]
     },
     "execution_count": 159,
     "metadata": {},
     "output_type": "execute_result"
    },
    {
     "data": {
      "image/png": "[encoded data removed]",
      "text/plain": [
       "<Figure size 432x288 with 1 Axes>"
      ]
     },
     "metadata": {
      "needs_background": "light"
     },
     "output_type": "display_data"
    }
   ],
   "source": [
    "#VitesseErosion(20).py\n",
    "    \n",
    "with open('/Users/wissam/Wissam/DATA/SUIVIS TEMPORELS/6:12_CRAIE_1_(20)/Traitement Images/Profil/Results/Coordonnées(Plot).csv') as csv_file:\n",
    "    csv_reader = csv.DictReader(csv_file, delimiter=',')\n",
    "    Coord1 = []\n",
    "    Slice1 =[]\n",
    "    for row in csv_reader:\n",
    "        row = dict(row)\n",
    "        Coord1.append(row.get(\"X\"))\n",
    "        Slice1.append(row.get(\"Slice\"))\n",
    "\n",
    "with open('/Users/wissam/Wissam/DATA/SUIVIS TEMPORELS/6:12_CRAIE_1_(20)/Traitement Images/Profil/Results/Point de Repère.csv') as csv_file:\n",
    "    csv_reader = csv.DictReader(csv_file, delimiter=',')\n",
    "    Coord2 = []\n",
    "    Slice2 =[]\n",
    "    for row in csv_reader:\n",
    "        row = dict(row)\n",
    "        Coord2.append(row.get(\"X\"))\n",
    "        Slice2.append(row.get(\"Slice\"))\n",
    "    \n",
    "\"\"\"Here, Coord1 and Coord2 contain strings so we convert them into float\"\"\"\n",
    "\n",
    "\n",
    "\n",
    "Coord1 = list(map(maybeMakeNumber, Coord1))\n",
    "Coord2 = list(map(maybeMakeNumber, Coord2))\n",
    "\n",
    "Slice2 = list(map(maybeMakeNumber, Slice2))\n",
    "\n",
    "\"\"\" Now that we have the coordinates of the edge of the chalk and of the point O,\n",
    "let's calculate the length  \"\"\"\n",
    "\n",
    "L = []\n",
    "for i in range (9) : \n",
    "     L.append(Coord1[i] - Coord2[i])\n",
    "L.append(48.8)\n",
    "for i in range (10,len(Slice1),1) :\n",
    "    L.append(Coord1[i] - Coord2[i])\n",
    "\n",
    "Li = []\n",
    "for i in range (len(L)) :\n",
    "    Li.append(L[i]-0.031)    \n",
    "    \n",
    "V = []\n",
    "for p in range (len(Li)-1) : \n",
    "    V.append(((Li[p+1]-Li[p])/2))\n",
    "    \n",
    "T = []\n",
    "for p in range (len(V)):\n",
    "    T.append(2*p) \n",
    "\n",
    "\n",
    "\n",
    "\n",
    "\"\"\" Plot of the speed in function of time \"\"\"\n",
    "\n",
    "    \n",
    "plt.plot(T, V, 'rd')   \n",
    "plt.xlabel('Time (minutes)')\n",
    "plt.ylabel('Speed (cm/min)')\n",
    "plt.title('Erosion Speed (V=20)')"
   ]
  },
  {
   "cell_type": "markdown",
   "id": "d257d39c",
   "metadata": {},
   "source": [
    "## Algorithme de comparaison des vitesses"
   ]
  },
  {
   "cell_type": "code",
   "execution_count": 160,
   "id": "c262b860",
   "metadata": {},
   "outputs": [
    {
     "data": {
      "text/plain": [
       "Text(0.5, 1.0, 'Comparison of erosion speed at different values of V')"
      ]
     },
     "execution_count": 160,
     "metadata": {},
     "output_type": "execute_result"
    },
    {
     "data": {
      "image/png": "[encoded data removed]",
      "text/plain": [
       "<Figure size 432x288 with 1 Axes>"
      ]
     },
     "metadata": {
      "needs_background": "light"
     },
     "output_type": "display_data"
    }
   ],
   "source": [
    "#SpeedComparison.py\n",
    "\n",
    "\n",
    "#VitesseErosion(5).py\n",
    "\n",
    "with open('/Users/wissam/Wissam/DATA/SUIVIS TEMPORELS/13:12_CRAIE_(5)/Traitement Images/Profil/Résultats/Results_Profil_(5).csv') as csv_file:\n",
    "    csv_reader = csv.DictReader(csv_file, delimiter=',')\n",
    "    L = []\n",
    "    Slice1 =[]\n",
    "    for row in csv_reader:\n",
    "        row = dict(row)\n",
    "        L.append(row.get(\"Length\"))\n",
    "        Slice1.append(row.get(\"\"))\n",
    "        \n",
    "\n",
    "L1 = list(map(maybeMakeNumber, L))\n",
    "L2=[]\n",
    "for i in range (len(L1)):\n",
    "    L2.append(L1[i]-2.89)\n",
    "\n",
    "V5 = []\n",
    "\n",
    "for i in range (len(L2)-1):\n",
    "    V5.append((L2[i+1]-L2[i])/8)\n",
    "    \n",
    "T5=[]\n",
    "for i in range (len(V5)):\n",
    "    T5.append(8*i)  \n",
    "\n",
    "\n",
    "#VitesseErosion(10).py\n",
    "\n",
    "with open('/Users/wissam/Wissam/DATA/SUIVIS TEMPORELS/8:12_CRAIE_1H_(10)/Traitement Images/Profil/Results/Profil2.csv') as csv_file:\n",
    "    csv_reader = csv.DictReader(csv_file, delimiter=',')\n",
    "    La = []\n",
    "    Slice1 =[]\n",
    "    for row in csv_reader:\n",
    "        row = dict(row)\n",
    "        La.append(row.get(\"Length\"))\n",
    "        \n",
    "\n",
    "La = list(map(maybeMakeNumber, La))\n",
    "Lo =[]\n",
    "\n",
    "for i in range((len(La))-2):\n",
    "    Lo.append(La[0]+La[i+2])\n",
    "\n",
    "L3 =[]\n",
    "for i in range(len(Lo)):\n",
    "    L3.append(Lo[i] + 0.912000000000006)\n",
    "\n",
    "\n",
    "V10 = []\n",
    "\n",
    "for i in range (len(L3)-1):\n",
    "    V10.append((L3[i+1]-L3[i])/4)\n",
    "    \n",
    "T10=[]\n",
    "for i in range (len(V10)):\n",
    "    T10.append(4*i)\n",
    "\n",
    "#VitesseErosion(20).py    \n",
    "    \n",
    "with open('/Users/wissam/Wissam/DATA/SUIVIS TEMPORELS/6:12_CRAIE_1_(20)/Traitement Images/Profil/Results/Coordonnées(Plot).csv') as csv_file:\n",
    "    csv_reader = csv.DictReader(csv_file, delimiter=',')\n",
    "    Coord1 = []\n",
    "    Slice1 =[]\n",
    "    for row in csv_reader:\n",
    "        row = dict(row)\n",
    "        Coord1.append(row.get(\"X\"))\n",
    "        Slice1.append(row.get(\"Slice\"))\n",
    "\n",
    "with open('/Users/wissam/Wissam/DATA/SUIVIS TEMPORELS/6:12_CRAIE_1_(20)/Traitement Images/Profil/Results/Point de Repère.csv') as csv_file:\n",
    "    csv_reader = csv.DictReader(csv_file, delimiter=',')\n",
    "    Coord2 = []\n",
    "    Slice2 =[]\n",
    "    for row in csv_reader:\n",
    "        row = dict(row)\n",
    "        Coord2.append(row.get(\"X\"))\n",
    "        Slice2.append(row.get(\"Slice\"))\n",
    "    \n",
    "\"\"\"Here, Coord1 and Coord2 contain strings so we convert them into float\"\"\"\n",
    "\n",
    "\n",
    "\n",
    "Coord1 = list(map(maybeMakeNumber, Coord1))\n",
    "Coord2 = list(map(maybeMakeNumber, Coord2))\n",
    "\n",
    "Slice2 = list(map(maybeMakeNumber, Slice2))\n",
    "\n",
    "\"\"\" Now that we have the coordinates of the edge of the chalk and of the point O,\n",
    "let's calculate the length  \"\"\"\n",
    "\n",
    "Lu = []\n",
    "for i in range (9) : \n",
    "     Lu.append(Coord1[i] - Coord2[i])\n",
    "Lu.append(48.8)\n",
    "for i in range (10,len(Slice1),1) :\n",
    "    Lu.append(Coord1[i] - Coord2[i])\n",
    "\n",
    "Li = []\n",
    "for i in range (len(Lu)) :\n",
    "    Li.append(Lu[i]-0.031) \n",
    "    \n",
    "V20 = []\n",
    "for p in range (len(Li)-1) : \n",
    "    V20.append(((Li[p+1]-Li[p])/2))\n",
    "    \n",
    "T20 = []\n",
    "for p in range (len(V)):\n",
    "    T20.append(2*p) \n",
    "\n",
    "\n",
    "plt.plot(T5,V5  ,'b^', label ='V=5' )\n",
    "plt.plot(T10,V10,'ks', label ='V=10')\n",
    "plt.plot(T20,V20,'rd', label ='V=20')\n",
    "plt.legend(loc='lower right')\n",
    "plt.xlabel('Time (minutes)')\n",
    "plt.ylabel('Speed (mm/min)')\n",
    "plt.title('Comparison of erosion speed at different values of V')\n"
   ]
  },
  {
   "cell_type": "markdown",
   "id": "c48c61c4",
   "metadata": {},
   "source": [
    "### Comparaison des vitesses en adimensionnant l'axe des abcisses"
   ]
  },
  {
   "cell_type": "code",
   "execution_count": 161,
   "id": "770f034c",
   "metadata": {},
   "outputs": [
    {
     "data": {
      "text/plain": [
       "Text(0.5, 1.0, 'Comparison of erosion speed at different values of V')"
      ]
     },
     "execution_count": 161,
     "metadata": {},
     "output_type": "execute_result"
    },
    {
     "data": {
      "image/png": "[encoded data removed]",
      "text/plain": [
       "<Figure size 432x288 with 1 Axes>"
      ]
     },
     "metadata": {
      "needs_background": "light"
     },
     "output_type": "display_data"
    }
   ],
   "source": [
    "T5nd  = []\n",
    "T10nd = []\n",
    "T20nd = []\n",
    "\n",
    "for i in range (len(V5)) :\n",
    "    T5nd.append(8*i*85/10)\n",
    "for j in range (len(V10)):    \n",
    "    T10nd.append(2*j*120/10)\n",
    "for k in range (len(V20)):\n",
    "    T20nd.append(2*k*272/10)\n",
    "\n",
    "plt.plot(T5nd,V5  ,'b^', label ='V=5' )\n",
    "plt.plot(T10nd,V10,'ks', label ='V=10')\n",
    "plt.plot(T20nd,V20,'rd', label ='V=20')\n",
    "plt.legend(loc='lower right')\n",
    "plt.xlabel('Time (no dimension)')\n",
    "plt.ylabel('Speed (mm/min)')\n",
    "plt.title('Comparison of erosion speed at different values of V')"
   ]
  },
  {
   "cell_type": "markdown",
   "id": "2e91ebe9",
   "metadata": {},
   "source": [
    "    #Adimensionnement de la vitesse"
   ]
  },
  {
   "cell_type": "code",
   "execution_count": 163,
   "id": "c4014d90",
   "metadata": {},
   "outputs": [
    {
     "data": {
      "text/plain": [
       "Text(0.5, 1.0, ' Erosion Speed (V=20)')"
      ]
     },
     "execution_count": 163,
     "metadata": {},
     "output_type": "execute_result"
    },
    {
     "data": {
      "image/png": "[encoded data removed]",
      "text/plain": [
       "<Figure size 432x288 with 1 Axes>"
      ]
     },
     "metadata": {
      "needs_background": "light"
     },
     "output_type": "display_data"
    }
   ],
   "source": [
    "\n",
    "#constantes déterminées par expériences\n",
    "\n",
    "g   = 9.81\n",
    "rho = 1.4   #unité g/cm^3\n",
    "V0i = 272   #vitesse linéaire subie par la craie V=20\n",
    "V0j = 120   #idem V=10\n",
    "V0k = 85    #idem V=5\n",
    "L0  = 4     #Profondeur\n",
    "\n",
    "Ci=[]\n",
    "for h in (range(len(V20))):\n",
    "    Ci.append(V20[h]*Li[h]/(rho*g*V0j))\n",
    "\n",
    "plt.plot  (T20nd, Ci, 'rd')   \n",
    "plt.xlabel(' Time (no dimension) ')\n",
    "plt.ylabel(' V/(\\u03C1*g*h*V0)   ')\n",
    "plt.title (' Erosion Speed (V=20)')\n"
   ]
  },
  {
   "cell_type": "code",
   "execution_count": 215,
   "id": "cec96716",
   "metadata": {},
   "outputs": [
    {
     "name": "stdout",
     "output_type": "stream",
     "text": [
      "[0.         0.99999999 1.         1.         1.         1.\n",
      " 1.         1.         1.         1.         1.         1.\n",
      " 1.         1.         1.         1.         1.         1.\n",
      " 1.         1.         1.         1.         1.         1.\n",
      " 1.         1.         1.         1.         1.         1.\n",
      " 1.         1.         1.         1.         1.         1.\n",
      " 1.         1.         1.         1.         1.         1.\n",
      " 1.         1.         1.         1.         1.         1.\n",
      " 1.         1.         1.         1.         1.         1.\n",
      " 1.         1.         1.         1.         1.         1.\n",
      " 1.         1.         1.         1.         1.         1.\n",
      " 1.         1.         1.         1.         1.         1.\n",
      " 1.         1.         1.         1.         1.         1.\n",
      " 1.         1.         1.         1.         1.         1.\n",
      " 1.         1.         1.         1.         1.         1.\n",
      " 1.         1.         1.         1.         1.         1.\n",
      " 1.         1.         1.         1.         1.         1.\n",
      " 1.         1.         1.         1.         1.         1.\n",
      " 1.         1.         1.         1.         1.         1.\n",
      " 1.         1.         1.         1.         1.         1.\n",
      " 1.         1.         1.         1.         1.         1.\n",
      " 1.         1.         1.         1.         1.         1.\n",
      " 1.         1.         1.         1.         1.         1.\n",
      " 1.         1.         1.         1.         1.         1.\n",
      " 1.         1.         1.         1.         1.         1.\n",
      " 1.         1.         1.         1.         1.         1.\n",
      " 1.         1.         1.         1.         1.         1.\n",
      " 1.         1.         1.         1.         1.         1.\n",
      " 1.         1.         1.         1.         1.         1.\n",
      " 1.         1.         1.         1.         1.         1.\n",
      " 1.         1.         1.         1.         1.         1.\n",
      " 1.         1.         1.         1.         1.         1.\n",
      " 1.         1.         1.         1.         1.         1.\n",
      " 1.         1.        ]\n"
     ]
    }
   ],
   "source": [
    "\n",
    "t=np.arange(0,2000,10)\n",
    "e = 1-np.exp(t*-rho*V0i*g/2000)\n",
    "\n",
    "print(e)\n"
   ]
  },
  {
   "cell_type": "code",
   "execution_count": 201,
   "id": "b0a0920b",
   "metadata": {},
   "outputs": [
    {
     "data": {
      "text/plain": [
       "Text(0, 0.5, 'Length (mm)')"
      ]
     },
     "execution_count": 201,
     "metadata": {},
     "output_type": "execute_result"
    },
    {
     "data": {
      "image/png": "[encoded data removed]",
      "text/plain": [
       "<Figure size 432x288 with 1 Axes>"
      ]
     },
     "metadata": {
      "needs_background": "light"
     },
     "output_type": "display_data"
    }
   ],
   "source": [
    "\n",
    "plt.plot(Ti,Li,'r-d',label = 'V=20')\n",
    "plt.plot(t,e(t))\n",
    "\n",
    "plt.legend(loc=\"upper right\")\n",
    "plt.xlabel('Time(No dimension)')\n",
    "plt.ylabel('Length (mm)')"
   ]
  },
  {
   "cell_type": "code",
   "execution_count": 210,
   "id": "6a24e12f",
   "metadata": {},
   "outputs": [
    {
     "data": {
      "text/plain": [
       "[<matplotlib.lines.Line2D at 0x7fed53668dc0>]"
      ]
     },
     "execution_count": 210,
     "metadata": {},
     "output_type": "execute_result"
    },
    {
     "data": {
      "image/png": "[encoded data removed]",
      "text/plain": [
       "<Figure size 432x288 with 1 Axes>"
      ]
     },
     "metadata": {
      "needs_background": "light"
     },
     "output_type": "display_data"
    }
   ],
   "source": [
    "x = np.linspace(-400,400,80)\n",
    "y = np.exp(-1/35*np.absolute(x))\n",
    "\n",
    "plt.plot(x,y)"
   ]
  },
  {
   "cell_type": "code",
   "execution_count": null,
   "id": "56fe5aa3",
   "metadata": {},
   "outputs": [],
   "source": []
  }
 ],
 "metadata": {
  "kernelspec": {
   "display_name": "Python 3 (ipykernel)",
   "language": "python",
   "name": "python3"
  },
  "language_info": {
   "codemirror_mode": {
    "name": "ipython",
    "version": 3
   },
   "file_extension": ".py",
   "mimetype": "text/x-python",
   "name": "python",
   "nbconvert_exporter": "python",
   "pygments_lexer": "ipython3",
   "version": "3.9.7"
  }
 },
 "nbformat": 4,
 "nbformat_minor": 5
}
